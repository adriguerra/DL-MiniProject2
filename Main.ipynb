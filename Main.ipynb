{
 "cells": [
  {
   "cell_type": "code",
   "execution_count": 1,
   "metadata": {},
   "outputs": [
    {
     "data": {
      "text/plain": [
       "<torch.autograd.grad_mode.set_grad_enabled at 0x102f2f0f0>"
      ]
     },
     "execution_count": 1,
     "metadata": {},
     "output_type": "execute_result"
    }
   ],
   "source": [
    "import torch\n",
    "import functions\n",
    "import modules\n",
    "import math\n",
    "from optimizer import SGD\n",
    "\n",
    "torch.set_grad_enabled(False)"
   ]
  },
  {
   "cell_type": "markdown",
   "metadata": {},
   "source": [
    "## Test.py"
   ]
  },
  {
   "cell_type": "markdown",
   "metadata": {},
   "source": [
    "## Generate data"
   ]
  },
  {
   "cell_type": "code",
   "execution_count": 2,
   "metadata": {},
   "outputs": [],
   "source": [
    "def generate_disc_set(nb):\n",
    "    input = torch.Tensor(nb, 2).uniform_(0, 1)\n",
    "    target = input.pow(2).sum(1).sub(1 / (2 * math.pi)).sign().add(1).div(2).long()\n",
    "    return input, target"
   ]
  },
  {
   "cell_type": "code",
   "execution_count": 3,
   "metadata": {},
   "outputs": [],
   "source": [
    "def convert_to_one_hot_labels(input, target):\n",
    "    tmp = input.new_zeros(target.size(0), target.max() + 1)\n",
    "    tmp.scatter_(1, target.view(-1, 1), 1.0)\n",
    "    return tmp"
   ]
  },
  {
   "cell_type": "code",
   "execution_count": 4,
   "metadata": {},
   "outputs": [],
   "source": [
    "train_input, train_target = generate_disc_set(1000)\n",
    "test_input, test_target = generate_disc_set(1000)\n",
    "train_target = convert_to_one_hot_labels(train_input, train_target)\n",
    "test_target = convert_to_one_hot_labels(test_input, test_target)"
   ]
  },
  {
   "cell_type": "code",
   "execution_count": 5,
   "metadata": {},
   "outputs": [],
   "source": [
    "train_input = 0.9 * train_input\n",
    "\n",
    "# TODO Normalization of the data"
   ]
  },
  {
   "cell_type": "markdown",
   "metadata": {},
   "source": [
    "## Mini-Project Architecture"
   ]
  },
  {
   "cell_type": "code",
   "execution_count": 6,
   "metadata": {},
   "outputs": [],
   "source": [
    "model1 = modules.Sequential(modules.Linear(2, 25),\n",
    "                                  modules.TanH(),\n",
    "                                  modules.Linear(25, 25),\n",
    "                                  modules.TanH(),\n",
    "                                  modules.Linear(25, 25),\n",
    "                                  modules.TanH(),\n",
    "                                  modules.Linear(25, 25),\n",
    "                                  modules.TanH(),\n",
    "                                  modules.Linear(25, 2),\n",
    "                                  modules.MSELoss()\n",
    "                                 )\n",
    "\n",
    "model2 = modules.Sequential(modules.Linear(2, 25),\n",
    "                                  modules.ReLU(),\n",
    "                                  modules.Linear(25, 25),\n",
    "                                  modules.ReLU(),\n",
    "                                  modules.Linear(25, 25),\n",
    "                                  modules.ReLU(),\n",
    "                                  modules.Linear(25, 25),\n",
    "                                  modules.ReLU(),\n",
    "                                  modules.Linear(25, 2),\n",
    "                                  modules.MSELoss()\n",
    "                                 )"
   ]
  },
  {
   "cell_type": "code",
   "execution_count": 7,
   "metadata": {},
   "outputs": [],
   "source": [
    "nb_epochs = 50\n",
    "lr = 1e-5\n",
    "mini_batch_size = 100\n",
    "optimizer1 = SGD(model1.param(), lr=lr)\n",
    "optimizer2 = SGD(model2.param(), lr=lr)"
   ]
  },
  {
   "cell_type": "code",
   "execution_count": 8,
   "metadata": {},
   "outputs": [
    {
     "name": "stdout",
     "output_type": "stream",
     "text": [
      "Iteration 50: loss = 1.462\r"
     ]
    }
   ],
   "source": [
    "for e in range(nb_epochs):\n",
    "    sum_loss = 0\n",
    "    for b in range(0, train_input.size(0), mini_batch_size):\n",
    "        output, loss = model1.forward(train_input.narrow(0, b, mini_batch_size), train_target.narrow(0, b, mini_batch_size))\n",
    "        optimizer1.zero_grad()\n",
    "        grad = model1.backward()\n",
    "        sum_loss = sum_loss + loss.item()\n",
    "        optimizer1.step()\n",
    "    print(\"Iteration {0:}: loss = {1:.3f}\".format(e+1, sum_loss), end='\\r', flush=True)\n",
    "loss_train = sum_loss"
   ]
  },
  {
   "cell_type": "code",
   "execution_count": 9,
   "metadata": {},
   "outputs": [],
   "source": [
    "output_test, loss_test = model1.forward(test_input, test_target)"
   ]
  },
  {
   "cell_type": "code",
   "execution_count": 10,
   "metadata": {},
   "outputs": [
    {
     "name": "stdout",
     "output_type": "stream",
     "text": [
      "Model 1 with TanH\n",
      "Training loss: 1.462\n",
      "Test loss: 0.126\n"
     ]
    }
   ],
   "source": [
    "print(\"Model 1 with TanH\")\n",
    "print(\"Training loss: {:.3f}\".format(loss_train))\n",
    "print(\"Test loss: {:.3f}\".format(loss_test))"
   ]
  },
  {
   "cell_type": "code",
   "execution_count": 11,
   "metadata": {},
   "outputs": [
    {
     "name": "stdout",
     "output_type": "stream",
     "text": [
      "Iteration 50: loss = 1.966\r"
     ]
    }
   ],
   "source": [
    "for e in range(nb_epochs):\n",
    "    sum_loss = 0\n",
    "    for b in range(0, train_input.size(0), mini_batch_size):\n",
    "        output, loss = model2.forward(train_input.narrow(0, b, mini_batch_size), train_target.narrow(0, b, mini_batch_size))\n",
    "        optimizer2.zero_grad()\n",
    "        grad = model2.backward()\n",
    "        sum_loss = sum_loss + loss.item()\n",
    "        optimizer2.step()\n",
    "    print(\"Iteration {0:}: loss = {1:.3f}\".format(e+1, sum_loss), end='\\r', flush=True)\n",
    "loss_train = sum_loss"
   ]
  },
  {
   "cell_type": "code",
   "execution_count": 12,
   "metadata": {},
   "outputs": [],
   "source": [
    "output_test, loss_test = model2.forward(test_input, test_target)"
   ]
  },
  {
   "cell_type": "code",
   "execution_count": 13,
   "metadata": {},
   "outputs": [
    {
     "data": {
      "text/plain": [
       "tensor([ 0.0000e+00, -4.6566e-10, -8.7476e-29, -2.5250e-29,         nan])"
      ]
     },
     "execution_count": 13,
     "metadata": {},
     "output_type": "execute_result"
    }
   ],
   "source": [
    "import torch\n",
    "torch.empty(5)"
   ]
  },
  {
   "cell_type": "code",
   "execution_count": 14,
   "metadata": {},
   "outputs": [
    {
     "name": "stdout",
     "output_type": "stream",
     "text": [
      "Model 2 with ReLu\n",
      "Training loss: 1.966\n",
      "Test loss: 0.168\n"
     ]
    }
   ],
   "source": [
    "print(\"Model 2 with ReLu\")\n",
    "print(\"Training loss: {:.3f}\".format(loss_train))\n",
    "print(\"Test loss: {:.3f}\".format(loss_test))"
   ]
  }
 ],
 "metadata": {
  "kernelspec": {
   "display_name": "Python 3",
   "language": "python",
   "name": "python3"
  },
  "language_info": {
   "codemirror_mode": {
    "name": "ipython",
    "version": 3
   },
   "file_extension": ".py",
   "mimetype": "text/x-python",
   "name": "python",
   "nbconvert_exporter": "python",
   "pygments_lexer": "ipython3",
   "version": "3.6.8"
  },
  "toc": {
   "base_numbering": 1,
   "nav_menu": {},
   "number_sections": false,
   "sideBar": true,
   "skip_h1_title": false,
   "title_cell": "Table of Contents",
   "title_sidebar": "Contents",
   "toc_cell": false,
   "toc_position": {},
   "toc_section_display": true,
   "toc_window_display": false
  },
  "varInspector": {
   "cols": {
    "lenName": 16,
    "lenType": 16,
    "lenVar": 40
   },
   "kernels_config": {
    "python": {
     "delete_cmd_postfix": "",
     "delete_cmd_prefix": "del ",
     "library": "var_list.py",
     "varRefreshCmd": "print(var_dic_list())"
    },
    "r": {
     "delete_cmd_postfix": ") ",
     "delete_cmd_prefix": "rm(",
     "library": "var_list.r",
     "varRefreshCmd": "cat(var_dic_list()) "
    }
   },
   "types_to_exclude": [
    "module",
    "function",
    "builtin_function_or_method",
    "instance",
    "_Feature"
   ],
   "window_display": false
  }
 },
 "nbformat": 4,
 "nbformat_minor": 2
}
