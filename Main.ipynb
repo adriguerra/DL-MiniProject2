{
 "cells": [
  {
   "cell_type": "code",
   "execution_count": 1,
   "metadata": {},
   "outputs": [],
   "source": [
    "import torch\n",
    "import functions\n",
    "import modules\n",
    "import math\n",
    "from optimizer import SGD\n",
    "\n",
    "from torch import optim\n",
    "from torch import Tensor\n",
    "from torch import nn\n",
    "\n",
    "# torch.set_grad_enabled(False)"
   ]
  },
  {
   "cell_type": "markdown",
   "metadata": {},
   "source": [
    "- Generates a training and a test set of 1,000 points sampled uniformly in [0, 1]2, each with a\n",
    "label 0 if outside the disk of radius 1/√2π and 1 inside,\n",
    "- two input units, two output units, three hidden layers of 25 units,"
   ]
  },
  {
   "cell_type": "markdown",
   "metadata": {},
   "source": [
    "## Test.py"
   ]
  },
  {
   "cell_type": "markdown",
   "metadata": {},
   "source": [
    "## Generate data"
   ]
  },
  {
   "cell_type": "code",
   "execution_count": 2,
   "metadata": {},
   "outputs": [],
   "source": [
    "def generate_disc_set(nb):\n",
    "    input = torch.Tensor(nb, 2).uniform_(0, 1)\n",
    "    target = input.pow(2).sum(1).sub(1 / (2 * math.pi)).sign().add(1).div(2).long()\n",
    "    return input, target"
   ]
  },
  {
   "cell_type": "code",
   "execution_count": 3,
   "metadata": {},
   "outputs": [],
   "source": [
    "def convert_to_one_hot_labels(input, target):\n",
    "    tmp = input.new_zeros(target.size(0), target.max() + 1)\n",
    "    tmp.scatter_(1, target.view(-1, 1), 1.0)\n",
    "    return tmp"
   ]
  },
  {
   "cell_type": "code",
   "execution_count": 4,
   "metadata": {},
   "outputs": [],
   "source": [
    "train_input, train_target = generate_disc_set(3)"
   ]
  },
  {
   "cell_type": "code",
   "execution_count": 5,
   "metadata": {},
   "outputs": [
    {
     "name": "stdout",
     "output_type": "stream",
     "text": [
      "tensor([[0.9600, 0.9407],\n",
      "        [0.0746, 0.6593],\n",
      "        [0.6379, 0.0767]])\n",
      "tensor([1, 1, 1])\n"
     ]
    }
   ],
   "source": [
    "print(train_input)\n",
    "print(train_target)"
   ]
  },
  {
   "cell_type": "code",
   "execution_count": 6,
   "metadata": {},
   "outputs": [],
   "source": [
    "train_target = convert_to_one_hot_labels(train_input, train_target)"
   ]
  },
  {
   "cell_type": "code",
   "execution_count": 7,
   "metadata": {},
   "outputs": [
    {
     "name": "stdout",
     "output_type": "stream",
     "text": [
      "tensor([[0.9600, 0.9407],\n",
      "        [0.0746, 0.6593],\n",
      "        [0.6379, 0.0767]])\n",
      "tensor([[0., 1.],\n",
      "        [0., 1.],\n",
      "        [0., 1.]])\n"
     ]
    }
   ],
   "source": [
    "print(train_input)\n",
    "print(train_target)"
   ]
  },
  {
   "cell_type": "code",
   "execution_count": 8,
   "metadata": {},
   "outputs": [],
   "source": [
    "train_input, train_target = generate_disc_set(1000)\n",
    "train_target = convert_to_one_hot_labels(train_input, train_target)"
   ]
  },
  {
   "cell_type": "code",
   "execution_count": 9,
   "metadata": {},
   "outputs": [
    {
     "data": {
      "text/plain": [
       "tensor([[-1.6074, -0.9145],\n",
       "        [-0.9288,  0.8357],\n",
       "        [ 0.5624,  1.2244],\n",
       "        ...,\n",
       "        [ 1.2717, -1.6148],\n",
       "        [ 0.7376, -0.5644],\n",
       "        [-0.8719, -0.5701]])"
      ]
     },
     "execution_count": 9,
     "metadata": {},
     "output_type": "execute_result"
    }
   ],
   "source": [
    "mean, std = train_input.mean(), train_input.std()\n",
    "train_input.sub_(mean).div_(std)"
   ]
  },
  {
   "cell_type": "code",
   "execution_count": 10,
   "metadata": {},
   "outputs": [],
   "source": [
    "train_input = 0.9 * train_input"
   ]
  },
  {
   "cell_type": "code",
   "execution_count": 11,
   "metadata": {
    "scrolled": true
   },
   "outputs": [
    {
     "name": "stdout",
     "output_type": "stream",
     "text": [
      "torch.Size([1000, 2])\n",
      "torch.Size([1000, 2])\n"
     ]
    }
   ],
   "source": [
    "print(train_input.shape)\n",
    "print(train_target.shape)"
   ]
  },
  {
   "cell_type": "code",
   "execution_count": 18,
   "metadata": {},
   "outputs": [],
   "source": [
    "arch1 = modules.Sequential(modules.Linear(2, 25), modules.Linear(25, 2), modules.MSELoss(train_target))"
   ]
  },
  {
   "cell_type": "code",
   "execution_count": 19,
   "metadata": {
    "scrolled": true
   },
   "outputs": [
    {
     "name": "stdout",
     "output_type": "stream",
     "text": [
      "Linear0\n",
      "<modules.Linear object at 0x1268c5c50>\n",
      "Linear1\n",
      "<modules.Linear object at 0x1268c5b38>\n",
      "MSELoss2\n",
      "<modules.MSELoss object at 0x1268c50f0>\n"
     ]
    }
   ],
   "source": [
    "for name, m in arch1.__dict__.items():\n",
    "    print(name)\n",
    "    print(m)"
   ]
  },
  {
   "cell_type": "code",
   "execution_count": 20,
   "metadata": {},
   "outputs": [
    {
     "name": "stdout",
     "output_type": "stream",
     "text": [
      "tensor(1957.7909)\n",
      "tensor(31735.6914)\n"
     ]
    }
   ],
   "source": [
    "nb_epochs = 2\n",
    "lr = 1e-3\n",
    "optimizer = SGD(arch1.param(), lr=lr)\n",
    "\n",
    "for e in range(nb_epochs):\n",
    "    output, loss = arch1.forward(train_input)\n",
    "    grad = arch1.backward()\n",
    "    for (p, grad2) in arch1.param():\n",
    "        p -= lr * grad2\n",
    "        grad2 = torch.zeros(grad2.shape)"
   ]
  },
  {
   "cell_type": "code",
   "execution_count": null,
   "metadata": {},
   "outputs": [],
   "source": [
    "model = nn.Sequential(\n",
    "            nn.Linear(2, 2),\n",
    "#             nn.ReLU(),\n",
    "#             nn.Linear(128, 2)\n",
    "        )\n",
    "criterion = nn.MSELoss()\n",
    "optimizer = optim.SGD(model.parameters(), lr=1e-3)\n",
    "nb_epochs = 10\n",
    "\n",
    "for e in range(nb_epochs):\n",
    "    output = model(train_input)\n",
    "    print(output)\n",
    "    loss = criterion(output, train_target.float())\n",
    "#     print(loss)\n",
    "    model.zero_grad()\n",
    "    loss.backward()\n",
    "    optimizer.step()"
   ]
  },
  {
   "cell_type": "markdown",
   "metadata": {},
   "source": [
    "## Mini-Project Architecture"
   ]
  },
  {
   "cell_type": "code",
   "execution_count": null,
   "metadata": {},
   "outputs": [],
   "source": [
    "seq = modules.Sequential(modules.Linear(2, 25),\n",
    "                         modules.TanH(),\n",
    "                         modules.Linear(25, 25),\n",
    "                         modules.TanH(),\n",
    "                         modules.Linear(25, 25),\n",
    "                         modules.TanH(),\n",
    "                         modules.Linear(25, 25),\n",
    "                         modules.TanH(),\n",
    "                         modules.Linear(25, 2)\n",
    "                        )"
   ]
  },
  {
   "cell_type": "code",
   "execution_count": null,
   "metadata": {},
   "outputs": [],
   "source": []
  }
 ],
 "metadata": {
  "kernelspec": {
   "display_name": "Python 3",
   "language": "python",
   "name": "python3"
  },
  "language_info": {
   "codemirror_mode": {
    "name": "ipython",
    "version": 3
   },
   "file_extension": ".py",
   "mimetype": "text/x-python",
   "name": "python",
   "nbconvert_exporter": "python",
   "pygments_lexer": "ipython3",
   "version": "3.6.8"
  },
  "toc": {
   "base_numbering": 1,
   "nav_menu": {},
   "number_sections": false,
   "sideBar": true,
   "skip_h1_title": false,
   "title_cell": "Table of Contents",
   "title_sidebar": "Contents",
   "toc_cell": false,
   "toc_position": {},
   "toc_section_display": true,
   "toc_window_display": false
  },
  "varInspector": {
   "cols": {
    "lenName": 16,
    "lenType": 16,
    "lenVar": 40
   },
   "kernels_config": {
    "python": {
     "delete_cmd_postfix": "",
     "delete_cmd_prefix": "del ",
     "library": "var_list.py",
     "varRefreshCmd": "print(var_dic_list())"
    },
    "r": {
     "delete_cmd_postfix": ") ",
     "delete_cmd_prefix": "rm(",
     "library": "var_list.r",
     "varRefreshCmd": "cat(var_dic_list()) "
    }
   },
   "types_to_exclude": [
    "module",
    "function",
    "builtin_function_or_method",
    "instance",
    "_Feature"
   ],
   "window_display": false
  }
 },
 "nbformat": 4,
 "nbformat_minor": 2
}
