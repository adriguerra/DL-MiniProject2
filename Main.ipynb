{
 "cells": [
  {
   "cell_type": "code",
   "execution_count": 1,
   "metadata": {},
   "outputs": [],
   "source": [
    "import torch\n",
    "import functions\n",
    "import modules\n",
    "import math\n",
    "from optimizer import SGD\n",
    "\n",
    "from torch import optim\n",
    "from torch import Tensor\n",
    "from torch import nn\n",
    "\n",
    "# torch.set_grad_enabled(False)"
   ]
  },
  {
   "cell_type": "markdown",
   "metadata": {},
   "source": [
    "- Generates a training and a test set of 1,000 points sampled uniformly in [0, 1]2, each with a\n",
    "label 0 if outside the disk of radius 1/√2π and 1 inside,\n",
    "- two input units, two output units, three hidden layers of 25 units,"
   ]
  },
  {
   "cell_type": "markdown",
   "metadata": {},
   "source": [
    "## Test.py"
   ]
  },
  {
   "cell_type": "markdown",
   "metadata": {},
   "source": [
    "## Generate data"
   ]
  },
  {
   "cell_type": "code",
   "execution_count": 2,
   "metadata": {},
   "outputs": [],
   "source": [
    "def generate_disc_set(nb):\n",
    "    input = torch.Tensor(nb, 2).uniform_(0, 1)\n",
    "    target = input.pow(2).sum(1).sub(1 / (2 * math.pi)).sign().add(1).div(2).long()\n",
    "    return input, target"
   ]
  },
  {
   "cell_type": "code",
   "execution_count": 3,
   "metadata": {},
   "outputs": [],
   "source": [
    "def convert_to_one_hot_labels(input, target):\n",
    "    tmp = input.new_zeros(target.size(0), target.max() + 1)\n",
    "    tmp.scatter_(1, target.view(-1, 1), 1.0)\n",
    "    return tmp"
   ]
  },
  {
   "cell_type": "code",
   "execution_count": 4,
   "metadata": {},
   "outputs": [],
   "source": [
    "train_input, train_target = generate_disc_set(3)"
   ]
  },
  {
   "cell_type": "code",
   "execution_count": 5,
   "metadata": {},
   "outputs": [
    {
     "name": "stdout",
     "output_type": "stream",
     "text": [
      "tensor([[0.0538, 0.8544],\n",
      "        [0.3294, 0.4938],\n",
      "        [0.2181, 0.6639]])\n",
      "tensor([1, 1, 1])\n"
     ]
    }
   ],
   "source": [
    "print(train_input)\n",
    "print(train_target)"
   ]
  },
  {
   "cell_type": "code",
   "execution_count": 6,
   "metadata": {},
   "outputs": [],
   "source": [
    "train_target = convert_to_one_hot_labels(train_input, train_target)"
   ]
  },
  {
   "cell_type": "code",
   "execution_count": 7,
   "metadata": {},
   "outputs": [
    {
     "name": "stdout",
     "output_type": "stream",
     "text": [
      "tensor([[0.0538, 0.8544],\n",
      "        [0.3294, 0.4938],\n",
      "        [0.2181, 0.6639]])\n",
      "tensor([[0., 1.],\n",
      "        [0., 1.],\n",
      "        [0., 1.]])\n"
     ]
    }
   ],
   "source": [
    "print(train_input)\n",
    "print(train_target)"
   ]
  },
  {
   "cell_type": "code",
   "execution_count": 8,
   "metadata": {},
   "outputs": [],
   "source": [
    "train_input, train_target = generate_disc_set(1000)\n",
    "train_target = convert_to_one_hot_labels(train_input, train_target)"
   ]
  },
  {
   "cell_type": "code",
   "execution_count": 9,
   "metadata": {},
   "outputs": [
    {
     "data": {
      "text/plain": [
       "tensor([[ 0.8134, -1.5656],\n",
       "        [ 0.2912, -0.1754],\n",
       "        [-1.6617, -1.5271],\n",
       "        ...,\n",
       "        [-1.2168, -1.0084],\n",
       "        [ 0.5189, -0.6359],\n",
       "        [ 0.5648,  1.2449]])"
      ]
     },
     "execution_count": 9,
     "metadata": {},
     "output_type": "execute_result"
    }
   ],
   "source": [
    "mean, std = train_input.mean(), train_input.std()\n",
    "train_input.sub_(mean).div_(std)"
   ]
  },
  {
   "cell_type": "code",
   "execution_count": 10,
   "metadata": {},
   "outputs": [],
   "source": [
    "train_input = 0.9 * train_input"
   ]
  },
  {
   "cell_type": "code",
   "execution_count": 11,
   "metadata": {
    "scrolled": true
   },
   "outputs": [
    {
     "name": "stdout",
     "output_type": "stream",
     "text": [
      "torch.Size([1000, 2])\n",
      "torch.Size([1000, 2])\n"
     ]
    }
   ],
   "source": [
    "print(train_input.shape)\n",
    "print(train_target.shape)"
   ]
  },
  {
   "cell_type": "code",
   "execution_count": 12,
   "metadata": {},
   "outputs": [],
   "source": [
    "arch1 = modules.Sequential(modules.Linear(2, 25), modules.Linear(25, 2), modules.MSELoss(train_target))"
   ]
  },
  {
   "cell_type": "code",
   "execution_count": 13,
   "metadata": {
    "scrolled": false
   },
   "outputs": [
    {
     "name": "stdout",
     "output_type": "stream",
     "text": [
      "Linear0\n",
      "<modules.Linear object at 0x1188d7b00>\n",
      "Linear1\n",
      "<modules.Linear object at 0x1188d7c18>\n",
      "MSELoss2\n",
      "<modules.MSELoss object at 0x1188d7c50>\n"
     ]
    }
   ],
   "source": [
    "for name, m in arch1.__dict__.items():\n",
    "    print(name)\n",
    "    print(m)"
   ]
  },
  {
   "cell_type": "code",
   "execution_count": 14,
   "metadata": {},
   "outputs": [],
   "source": [
    "nb_epochs = 50\n",
    "lr = 1e-5"
   ]
  },
  {
   "cell_type": "code",
   "execution_count": 15,
   "metadata": {},
   "outputs": [
    {
     "name": "stdout",
     "output_type": "stream",
     "text": [
      "tensor(1.0785)\n",
      "tensor(0.9938)\n",
      "tensor(0.9169)\n",
      "tensor(0.8472)\n",
      "tensor(0.7839)\n",
      "tensor(0.7264)\n",
      "tensor(0.6740)\n",
      "tensor(0.6263)\n",
      "tensor(0.5829)\n",
      "tensor(0.5434)\n",
      "tensor(0.5073)\n",
      "tensor(0.4744)\n",
      "tensor(0.4445)\n",
      "tensor(0.4172)\n",
      "tensor(0.3923)\n",
      "tensor(0.3696)\n",
      "tensor(0.3489)\n",
      "tensor(0.3300)\n",
      "tensor(0.3128)\n",
      "tensor(0.2971)\n",
      "tensor(0.2828)\n",
      "tensor(0.2698)\n",
      "tensor(0.2579)\n",
      "tensor(0.2472)\n",
      "tensor(0.2373)\n",
      "tensor(0.2284)\n",
      "tensor(0.2202)\n",
      "tensor(0.2128)\n",
      "tensor(0.2061)\n",
      "tensor(0.1999)\n",
      "tensor(0.1944)\n",
      "tensor(0.1893)\n",
      "tensor(0.1847)\n",
      "tensor(0.1805)\n",
      "tensor(0.1767)\n",
      "tensor(0.1733)\n",
      "tensor(0.1701)\n",
      "tensor(0.1673)\n",
      "tensor(0.1647)\n",
      "tensor(0.1623)\n",
      "tensor(0.1602)\n",
      "tensor(0.1583)\n",
      "tensor(0.1565)\n",
      "tensor(0.1549)\n",
      "tensor(0.1535)\n",
      "tensor(0.1522)\n",
      "tensor(0.1510)\n",
      "tensor(0.1499)\n",
      "tensor(0.1489)\n",
      "tensor(0.1480)\n"
     ]
    }
   ],
   "source": [
    "optimizer = SGD(arch1.param(), lr=lr)\n",
    "for e in range(nb_epochs):\n",
    "    output, loss = arch1.forward(train_input)\n",
    "    print(loss)\n",
    "    grad = arch1.backward()\n",
    "    optimizer.step()\n",
    "    optimizer.zero_grad()"
   ]
  },
  {
   "cell_type": "code",
   "execution_count": 16,
   "metadata": {},
   "outputs": [
    {
     "name": "stdout",
     "output_type": "stream",
     "text": [
      "tensor(0.5367, grad_fn=<MseLossBackward>)\n",
      "tensor(0.5359, grad_fn=<MseLossBackward>)\n",
      "tensor(0.5350, grad_fn=<MseLossBackward>)\n",
      "tensor(0.5341, grad_fn=<MseLossBackward>)\n",
      "tensor(0.5332, grad_fn=<MseLossBackward>)\n",
      "tensor(0.5323, grad_fn=<MseLossBackward>)\n",
      "tensor(0.5315, grad_fn=<MseLossBackward>)\n",
      "tensor(0.5306, grad_fn=<MseLossBackward>)\n",
      "tensor(0.5297, grad_fn=<MseLossBackward>)\n",
      "tensor(0.5288, grad_fn=<MseLossBackward>)\n",
      "tensor(0.5280, grad_fn=<MseLossBackward>)\n",
      "tensor(0.5271, grad_fn=<MseLossBackward>)\n",
      "tensor(0.5262, grad_fn=<MseLossBackward>)\n",
      "tensor(0.5254, grad_fn=<MseLossBackward>)\n",
      "tensor(0.5245, grad_fn=<MseLossBackward>)\n",
      "tensor(0.5236, grad_fn=<MseLossBackward>)\n",
      "tensor(0.5228, grad_fn=<MseLossBackward>)\n",
      "tensor(0.5219, grad_fn=<MseLossBackward>)\n",
      "tensor(0.5211, grad_fn=<MseLossBackward>)\n",
      "tensor(0.5202, grad_fn=<MseLossBackward>)\n",
      "tensor(0.5193, grad_fn=<MseLossBackward>)\n",
      "tensor(0.5185, grad_fn=<MseLossBackward>)\n",
      "tensor(0.5176, grad_fn=<MseLossBackward>)\n",
      "tensor(0.5168, grad_fn=<MseLossBackward>)\n",
      "tensor(0.5159, grad_fn=<MseLossBackward>)\n",
      "tensor(0.5151, grad_fn=<MseLossBackward>)\n",
      "tensor(0.5142, grad_fn=<MseLossBackward>)\n",
      "tensor(0.5134, grad_fn=<MseLossBackward>)\n",
      "tensor(0.5126, grad_fn=<MseLossBackward>)\n",
      "tensor(0.5117, grad_fn=<MseLossBackward>)\n",
      "tensor(0.5109, grad_fn=<MseLossBackward>)\n",
      "tensor(0.5100, grad_fn=<MseLossBackward>)\n",
      "tensor(0.5092, grad_fn=<MseLossBackward>)\n",
      "tensor(0.5084, grad_fn=<MseLossBackward>)\n",
      "tensor(0.5075, grad_fn=<MseLossBackward>)\n",
      "tensor(0.5067, grad_fn=<MseLossBackward>)\n",
      "tensor(0.5059, grad_fn=<MseLossBackward>)\n",
      "tensor(0.5051, grad_fn=<MseLossBackward>)\n",
      "tensor(0.5042, grad_fn=<MseLossBackward>)\n",
      "tensor(0.5034, grad_fn=<MseLossBackward>)\n",
      "tensor(0.5026, grad_fn=<MseLossBackward>)\n",
      "tensor(0.5018, grad_fn=<MseLossBackward>)\n",
      "tensor(0.5009, grad_fn=<MseLossBackward>)\n",
      "tensor(0.5001, grad_fn=<MseLossBackward>)\n",
      "tensor(0.4993, grad_fn=<MseLossBackward>)\n",
      "tensor(0.4985, grad_fn=<MseLossBackward>)\n",
      "tensor(0.4977, grad_fn=<MseLossBackward>)\n",
      "tensor(0.4969, grad_fn=<MseLossBackward>)\n",
      "tensor(0.4961, grad_fn=<MseLossBackward>)\n",
      "tensor(0.4952, grad_fn=<MseLossBackward>)\n"
     ]
    }
   ],
   "source": [
    "model = nn.Sequential(nn.Linear(2, 2))\n",
    "criterion = nn.MSELoss()\n",
    "optimizer = optim.SGD(model.parameters(), lr=1e-3)\n",
    "nb_epochs = 50\n",
    "\n",
    "for e in range(nb_epochs):\n",
    "    output = model(train_input)\n",
    "    loss = criterion(output, train_target.float())\n",
    "    print(loss)\n",
    "    model.zero_grad()\n",
    "    loss.backward()\n",
    "    optimizer.step()"
   ]
  },
  {
   "cell_type": "markdown",
   "metadata": {},
   "source": [
    "## Mini-Project Architecture"
   ]
  },
  {
   "cell_type": "code",
   "execution_count": 17,
   "metadata": {},
   "outputs": [],
   "source": [
    "architecture = modules.Sequential(modules.Linear(2, 25),\n",
    "                                  modules.TanH(),\n",
    "                                  modules.Linear(25, 25),\n",
    "                                  modules.TanH(),\n",
    "                                  modules.Linear(25, 25),\n",
    "                                  modules.TanH(),\n",
    "                                  modules.Linear(25, 25),\n",
    "                                  modules.TanH(),\n",
    "                                  modules.Linear(25, 2),\n",
    "                                  modules.MSELoss(train_target)\n",
    "                                 )"
   ]
  },
  {
   "cell_type": "code",
   "execution_count": null,
   "metadata": {},
   "outputs": [],
   "source": []
  }
 ],
 "metadata": {
  "kernelspec": {
   "display_name": "Python 3",
   "language": "python",
   "name": "python3"
  },
  "language_info": {
   "codemirror_mode": {
    "name": "ipython",
    "version": 3
   },
   "file_extension": ".py",
   "mimetype": "text/x-python",
   "name": "python",
   "nbconvert_exporter": "python",
   "pygments_lexer": "ipython3",
   "version": "3.6.8"
  },
  "toc": {
   "base_numbering": 1,
   "nav_menu": {},
   "number_sections": false,
   "sideBar": true,
   "skip_h1_title": false,
   "title_cell": "Table of Contents",
   "title_sidebar": "Contents",
   "toc_cell": false,
   "toc_position": {},
   "toc_section_display": true,
   "toc_window_display": false
  },
  "varInspector": {
   "cols": {
    "lenName": 16,
    "lenType": 16,
    "lenVar": 40
   },
   "kernels_config": {
    "python": {
     "delete_cmd_postfix": "",
     "delete_cmd_prefix": "del ",
     "library": "var_list.py",
     "varRefreshCmd": "print(var_dic_list())"
    },
    "r": {
     "delete_cmd_postfix": ") ",
     "delete_cmd_prefix": "rm(",
     "library": "var_list.r",
     "varRefreshCmd": "cat(var_dic_list()) "
    }
   },
   "types_to_exclude": [
    "module",
    "function",
    "builtin_function_or_method",
    "instance",
    "_Feature"
   ],
   "window_display": false
  }
 },
 "nbformat": 4,
 "nbformat_minor": 2
}
