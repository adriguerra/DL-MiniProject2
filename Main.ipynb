{
 "cells": [
  {
   "cell_type": "code",
   "execution_count": 1,
   "metadata": {},
   "outputs": [],
   "source": [
    "import torch\n",
    "import functions\n",
    "import modules\n",
    "import math\n",
    "from optimizer import SGD\n",
    "\n",
    "from torch import optim\n",
    "from torch import Tensor\n",
    "from torch import nn\n",
    "\n",
    "# torch.set_grad_enabled(False)"
   ]
  },
  {
   "cell_type": "markdown",
   "metadata": {},
   "source": [
    "- Generates a training and a test set of 1,000 points sampled uniformly in [0, 1]2, each with a\n",
    "label 0 if outside the disk of radius 1/√2π and 1 inside,\n",
    "- two input units, two output units, three hidden layers of 25 units,"
   ]
  },
  {
   "cell_type": "markdown",
   "metadata": {},
   "source": [
    "## Test.py"
   ]
  },
  {
   "cell_type": "markdown",
   "metadata": {},
   "source": [
    "## Generate data"
   ]
  },
  {
   "cell_type": "code",
   "execution_count": 2,
   "metadata": {},
   "outputs": [],
   "source": [
    "def generate_disc_set(nb):\n",
    "    input = torch.Tensor(nb, 2).uniform_(0, 1)\n",
    "    target = input.pow(2).sum(1).sub(1 / (2 * math.pi)).sign().add(1).div(2).long()\n",
    "    return input, target"
   ]
  },
  {
   "cell_type": "code",
   "execution_count": 3,
   "metadata": {},
   "outputs": [],
   "source": [
    "def convert_to_one_hot_labels(input, target):\n",
    "    tmp = input.new_zeros(target.size(0), target.max() + 1)\n",
    "    tmp.scatter_(1, target.view(-1, 1), 1.0)\n",
    "    return tmp"
   ]
  },
  {
   "cell_type": "code",
   "execution_count": 4,
   "metadata": {},
   "outputs": [],
   "source": [
    "train_input, train_target = generate_disc_set(1000)\n",
    "train_target = convert_to_one_hot_labels(train_input, train_target)"
   ]
  },
  {
   "cell_type": "code",
   "execution_count": 5,
   "metadata": {},
   "outputs": [],
   "source": [
    "train_input = 0.9 * train_input\n",
    "\n",
    "# Normalization of the data TO DO"
   ]
  },
  {
   "cell_type": "code",
   "execution_count": 6,
   "metadata": {
    "scrolled": true
   },
   "outputs": [
    {
     "name": "stdout",
     "output_type": "stream",
     "text": [
      "torch.Size([1000, 2])\n",
      "torch.Size([1000, 2])\n"
     ]
    }
   ],
   "source": [
    "print(train_input.shape)\n",
    "print(train_target.shape)"
   ]
  },
  {
   "cell_type": "markdown",
   "metadata": {},
   "source": [
    "## Mini-Project Architecture"
   ]
  },
  {
   "cell_type": "code",
   "execution_count": 7,
   "metadata": {},
   "outputs": [],
   "source": [
    "model1 = modules.Sequential(modules.Linear(2, 25),\n",
    "                                  modules.TanH(),\n",
    "                                  modules.Linear(25, 25),\n",
    "                                  modules.TanH(),\n",
    "                                  modules.Linear(25, 25),\n",
    "                                  modules.TanH(),\n",
    "                                  modules.Linear(25, 25),\n",
    "                                  modules.TanH(),\n",
    "                                  modules.Linear(25, 2),\n",
    "                                  modules.MSELoss()\n",
    "                                 )\n",
    "\n",
    "model2 = modules.Sequential(modules.Linear(2, 25),\n",
    "                                  modules.ReLU(),\n",
    "                                  modules.Linear(25, 25),\n",
    "                                  modules.ReLU(),\n",
    "                                  modules.Linear(25, 25),\n",
    "                                  modules.ReLU(),\n",
    "                                  modules.Linear(25, 25),\n",
    "                                  modules.ReLU(),\n",
    "                                  modules.Linear(25, 2),\n",
    "                                  modules.MSELoss()\n",
    "                                 )"
   ]
  },
  {
   "cell_type": "code",
   "execution_count": 8,
   "metadata": {},
   "outputs": [],
   "source": [
    "nb_epochs = 50\n",
    "lr = 1e-5\n",
    "mini_batch_size = 100\n",
    "optimizer1 = SGD(model1.param(), lr=lr)\n",
    "optimizer2 = SGD(model2.param(), lr=lr)"
   ]
  },
  {
   "cell_type": "code",
   "execution_count": 9,
   "metadata": {},
   "outputs": [
    {
     "name": "stdout",
     "output_type": "stream",
     "text": [
      "Iteration #1 loss = 9.8103\n",
      "Iteration #2 loss = 7.3901\n",
      "Iteration #3 loss = 5.7282\n",
      "Iteration #4 loss = 4.5876\n",
      "Iteration #5 loss = 3.8062\n",
      "Iteration #6 loss = 3.2715\n",
      "Iteration #7 loss = 2.9057\n",
      "Iteration #8 loss = 2.6552\n",
      "Iteration #9 loss = 2.4830\n",
      "Iteration #10 loss = 2.3637\n",
      "Iteration #11 loss = 2.2802\n",
      "Iteration #12 loss = 2.2207\n",
      "Iteration #13 loss = 2.1774\n",
      "Iteration #14 loss = 2.1450\n",
      "Iteration #15 loss = 2.1199\n",
      "Iteration #16 loss = 2.0998\n",
      "Iteration #17 loss = 2.0829\n",
      "Iteration #18 loss = 2.0684\n",
      "Iteration #19 loss = 2.0554\n",
      "Iteration #20 loss = 2.0435\n",
      "Iteration #21 loss = 2.0324\n",
      "Iteration #22 loss = 2.0218\n",
      "Iteration #23 loss = 2.0116\n",
      "Iteration #24 loss = 2.0017\n",
      "Iteration #25 loss = 1.9921\n",
      "Iteration #26 loss = 1.9826\n",
      "Iteration #27 loss = 1.9734\n",
      "Iteration #28 loss = 1.9643\n",
      "Iteration #29 loss = 1.9553\n",
      "Iteration #30 loss = 1.9464\n",
      "Iteration #31 loss = 1.9377\n",
      "Iteration #32 loss = 1.9291\n",
      "Iteration #33 loss = 1.9206\n",
      "Iteration #34 loss = 1.9122\n",
      "Iteration #35 loss = 1.9039\n",
      "Iteration #36 loss = 1.8957\n",
      "Iteration #37 loss = 1.8876\n",
      "Iteration #38 loss = 1.8796\n",
      "Iteration #39 loss = 1.8716\n",
      "Iteration #40 loss = 1.8638\n",
      "Iteration #41 loss = 1.8561\n",
      "Iteration #42 loss = 1.8485\n",
      "Iteration #43 loss = 1.8409\n",
      "Iteration #44 loss = 1.8334\n",
      "Iteration #45 loss = 1.8261\n",
      "Iteration #46 loss = 1.8188\n",
      "Iteration #47 loss = 1.8115\n",
      "Iteration #48 loss = 1.8044\n",
      "Iteration #49 loss = 1.7974\n",
      "Iteration #50 loss = 1.7904\n"
     ]
    }
   ],
   "source": [
    "for e in range(nb_epochs):\n",
    "    sum_loss = 0\n",
    "    for b in range(0, train_input.size(0), mini_batch_size):\n",
    "        output, loss = model1.forward(train_input.narrow(0, b, mini_batch_size), train_target.narrow(0, b, mini_batch_size))\n",
    "        grad = model1.backward()\n",
    "        sum_loss = sum_loss + loss.item()\n",
    "        optimizer1.step()\n",
    "        optimizer1.zero_grad()\n",
    "    print(\"Iteration #{0:} loss = {1:.4f}\".format(e+1, sum_loss))"
   ]
  },
  {
   "cell_type": "code",
   "execution_count": 10,
   "metadata": {},
   "outputs": [
    {
     "name": "stdout",
     "output_type": "stream",
     "text": [
      "Iteration #1 loss = nan\n",
      "Iteration #2 loss = nan\n",
      "Iteration #3 loss = nan\n",
      "Iteration #4 loss = nan\n",
      "Iteration #5 loss = nan\n",
      "Iteration #6 loss = nan\n",
      "Iteration #7 loss = nan\n",
      "Iteration #8 loss = nan\n",
      "Iteration #9 loss = nan\n",
      "Iteration #10 loss = nan\n",
      "Iteration #11 loss = nan\n",
      "Iteration #12 loss = nan\n",
      "Iteration #13 loss = nan\n",
      "Iteration #14 loss = nan\n",
      "Iteration #15 loss = nan\n",
      "Iteration #16 loss = nan\n",
      "Iteration #17 loss = nan\n",
      "Iteration #18 loss = nan\n",
      "Iteration #19 loss = nan\n",
      "Iteration #20 loss = nan\n",
      "Iteration #21 loss = nan\n",
      "Iteration #22 loss = nan\n",
      "Iteration #23 loss = nan\n",
      "Iteration #24 loss = nan\n",
      "Iteration #25 loss = nan\n",
      "Iteration #26 loss = nan\n",
      "Iteration #27 loss = nan\n",
      "Iteration #28 loss = nan\n",
      "Iteration #29 loss = nan\n",
      "Iteration #30 loss = nan\n",
      "Iteration #31 loss = nan\n",
      "Iteration #32 loss = nan\n",
      "Iteration #33 loss = nan\n",
      "Iteration #34 loss = nan\n",
      "Iteration #35 loss = nan\n",
      "Iteration #36 loss = nan\n",
      "Iteration #37 loss = nan\n",
      "Iteration #38 loss = nan\n",
      "Iteration #39 loss = nan\n",
      "Iteration #40 loss = nan\n",
      "Iteration #41 loss = nan\n",
      "Iteration #42 loss = nan\n",
      "Iteration #43 loss = nan\n",
      "Iteration #44 loss = nan\n",
      "Iteration #45 loss = nan\n",
      "Iteration #46 loss = nan\n",
      "Iteration #47 loss = nan\n",
      "Iteration #48 loss = nan\n",
      "Iteration #49 loss = nan\n",
      "Iteration #50 loss = nan\n"
     ]
    }
   ],
   "source": [
    "for e in range(nb_epochs):\n",
    "    sum_loss = 0\n",
    "    for b in range(0, train_input.size(0), mini_batch_size):\n",
    "        output, loss = model2.forward(train_input.narrow(0, b, mini_batch_size), train_target.narrow(0, b, mini_batch_size))\n",
    "        grad = model2.backward()\n",
    "        sum_loss = sum_loss + loss.item()\n",
    "        optimizer2.step()\n",
    "        optimizer2.zero_grad()\n",
    "    print(\"Iteration #{0:} loss = {1:.4f}\".format(e+1, sum_loss))"
   ]
  }
 ],
 "metadata": {
  "kernelspec": {
   "display_name": "Python 3",
   "language": "python",
   "name": "python3"
  },
  "language_info": {
   "codemirror_mode": {
    "name": "ipython",
    "version": 3
   },
   "file_extension": ".py",
   "mimetype": "text/x-python",
   "name": "python",
   "nbconvert_exporter": "python",
   "pygments_lexer": "ipython3",
   "version": "3.6.5"
  },
  "toc": {
   "base_numbering": 1,
   "nav_menu": {},
   "number_sections": false,
   "sideBar": true,
   "skip_h1_title": false,
   "title_cell": "Table of Contents",
   "title_sidebar": "Contents",
   "toc_cell": false,
   "toc_position": {},
   "toc_section_display": true,
   "toc_window_display": false
  },
  "varInspector": {
   "cols": {
    "lenName": 16,
    "lenType": 16,
    "lenVar": 40
   },
   "kernels_config": {
    "python": {
     "delete_cmd_postfix": "",
     "delete_cmd_prefix": "del ",
     "library": "var_list.py",
     "varRefreshCmd": "print(var_dic_list())"
    },
    "r": {
     "delete_cmd_postfix": ") ",
     "delete_cmd_prefix": "rm(",
     "library": "var_list.r",
     "varRefreshCmd": "cat(var_dic_list()) "
    }
   },
   "types_to_exclude": [
    "module",
    "function",
    "builtin_function_or_method",
    "instance",
    "_Feature"
   ],
   "window_display": false
  }
 },
 "nbformat": 4,
 "nbformat_minor": 2
}
