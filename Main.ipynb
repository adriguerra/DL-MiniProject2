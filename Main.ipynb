{
 "cells": [
  {
   "cell_type": "code",
   "execution_count": null,
   "metadata": {},
   "outputs": [],
   "source": [
    "import torch\n",
    "import functions\n",
    "import modules\n",
    "import math\n",
    "from optimizer import SGD\n",
    "\n",
    "from torch import optim\n",
    "from torch import Tensor\n",
    "from torch import nn\n",
    "\n",
    "# torch.set_grad_enabled(False)"
   ]
  },
  {
   "cell_type": "markdown",
   "metadata": {},
   "source": [
    "- Generates a training and a test set of 1,000 points sampled uniformly in [0, 1]2, each with a\n",
    "label 0 if outside the disk of radius 1/√2π and 1 inside,\n",
    "- two input units, two output units, three hidden layers of 25 units,"
   ]
  },
  {
   "cell_type": "markdown",
   "metadata": {},
   "source": [
    "## Test.py"
   ]
  },
  {
   "cell_type": "markdown",
   "metadata": {},
   "source": [
    "## Generate data"
   ]
  },
  {
   "cell_type": "code",
   "execution_count": null,
   "metadata": {},
   "outputs": [],
   "source": [
    "def generate_disc_set(nb):\n",
    "    input = torch.Tensor(nb, 2).uniform_(0, 1)\n",
    "    target = input.pow(2).sum(1).sub(1 / (2 * math.pi)).sign().add(1).div(2).long()\n",
    "    return input, target"
   ]
  },
  {
   "cell_type": "code",
   "execution_count": null,
   "metadata": {},
   "outputs": [],
   "source": [
    "def convert_to_one_hot_labels(input, target):\n",
    "    tmp = input.new_zeros(target.size(0), target.max() + 1)\n",
    "    tmp.scatter_(1, target.view(-1, 1), 1.0)\n",
    "    return tmp"
   ]
  },
  {
   "cell_type": "code",
   "execution_count": null,
   "metadata": {},
   "outputs": [],
   "source": [
    "train_input, train_target = generate_disc_set(1000)\n",
    "test_input, test_target = generate_disc_set(1000)\n",
    "train_target = convert_to_one_hot_labels(train_input, train_target)\n",
    "test_target = convert_to_one_hot_labels(test_input, test_target)"
   ]
  },
  {
   "cell_type": "code",
   "execution_count": null,
   "metadata": {},
   "outputs": [],
   "source": [
    "train_input = 0.9 * train_input\n",
    "\n",
    "# Normalization of the data TO DO"
   ]
  },
  {
   "cell_type": "code",
   "execution_count": null,
   "metadata": {
    "scrolled": true
   },
   "outputs": [],
   "source": [
    "print(train_input.shape)\n",
    "print(train_target.shape)\n",
    "print(test_input.shape)\n",
    "print(test_target.shape)"
   ]
  },
  {
   "cell_type": "markdown",
   "metadata": {},
   "source": [
    "## Mini-Project Architecture"
   ]
  },
  {
   "cell_type": "code",
   "execution_count": null,
   "metadata": {},
   "outputs": [],
   "source": [
    "model1 = modules.Sequential(modules.Linear(2, 25),\n",
    "                                  modules.TanH(),\n",
    "                                  modules.Linear(25, 25),\n",
    "                                  modules.TanH(),\n",
    "                                  modules.Linear(25, 25),\n",
    "                                  modules.TanH(),\n",
    "                                  modules.Linear(25, 25),\n",
    "                                  modules.TanH(),\n",
    "                                  modules.Linear(25, 2),\n",
    "                                  modules.MSELoss()\n",
    "                                 )\n",
    "\n",
    "model2 = modules.Sequential(modules.Linear(2, 25),\n",
    "                                  modules.ReLU(),\n",
    "                                  modules.Linear(25, 25),\n",
    "                                  modules.ReLU(),\n",
    "                                  modules.Linear(25, 25),\n",
    "                                  modules.ReLU(),\n",
    "                                  modules.Linear(25, 25),\n",
    "                                  modules.ReLU(),\n",
    "                                  modules.Linear(25, 2),\n",
    "                                  modules.MSELoss()\n",
    "                                 )"
   ]
  },
  {
   "cell_type": "code",
   "execution_count": null,
   "metadata": {},
   "outputs": [],
   "source": [
    "nb_epochs = 50\n",
    "lr = 1e-5\n",
    "mini_batch_size = 100\n",
    "optimizer1 = SGD(model1.param(), lr=lr)\n",
    "optimizer2 = SGD(model2.param(), lr=lr)"
   ]
  },
  {
   "cell_type": "code",
   "execution_count": null,
   "metadata": {},
   "outputs": [],
   "source": [
    "for e in range(nb_epochs):\n",
    "    sum_loss = 0\n",
    "    for b in range(0, train_input.size(0), mini_batch_size):\n",
    "        output, loss = model1.forward(train_input.narrow(0, b, mini_batch_size), train_target.narrow(0, b, mini_batch_size))\n",
    "        grad = model1.backward()\n",
    "        sum_loss = sum_loss + loss.item()\n",
    "        optimizer1.step()\n",
    "        optimizer1.zero_grad()\n",
    "    print(\"Iteration #{0:} loss = {1:.4f}\".format(e+1, sum_loss))"
   ]
  },
  {
   "cell_type": "code",
   "execution_count": null,
   "metadata": {},
   "outputs": [],
   "source": [
    "for e in range(nb_epochs):\n",
    "    sum_loss = 0\n",
    "    for b in range(0, train_input.size(0), mini_batch_size):\n",
    "        output, loss = model2.forward(train_input.narrow(0, b, mini_batch_size), train_target.narrow(0, b, mini_batch_size))\n",
    "        grad = model2.backward()\n",
    "        sum_loss = sum_loss + loss.item()\n",
    "        optimizer2.step()\n",
    "        optimizer2.zero_grad()\n",
    "    print(\"Iteration #{0:} loss = {1:.4f}\".format(e+1, sum_loss))"
   ]
  },
  {
   "cell_type": "code",
   "execution_count": null,
   "metadata": {},
   "outputs": [],
   "source": [
    "output_test, loss_test = model1.forward(test_input, test_target)"
   ]
  },
  {
   "cell_type": "code",
   "execution_count": null,
   "metadata": {},
   "outputs": [],
   "source": [
    "print(loss_test)"
   ]
  }
 ],
 "metadata": {
  "kernelspec": {
   "display_name": "Python 3",
   "language": "python",
   "name": "python3"
  },
  "language_info": {
   "codemirror_mode": {
    "name": "ipython",
    "version": 3
   },
   "file_extension": ".py",
   "mimetype": "text/x-python",
   "name": "python",
   "nbconvert_exporter": "python",
   "pygments_lexer": "ipython3",
   "version": "3.6.5"
  },
  "toc": {
   "base_numbering": 1,
   "nav_menu": {},
   "number_sections": false,
   "sideBar": true,
   "skip_h1_title": false,
   "title_cell": "Table of Contents",
   "title_sidebar": "Contents",
   "toc_cell": false,
   "toc_position": {},
   "toc_section_display": true,
   "toc_window_display": false
  },
  "varInspector": {
   "cols": {
    "lenName": 16,
    "lenType": 16,
    "lenVar": 40
   },
   "kernels_config": {
    "python": {
     "delete_cmd_postfix": "",
     "delete_cmd_prefix": "del ",
     "library": "var_list.py",
     "varRefreshCmd": "print(var_dic_list())"
    },
    "r": {
     "delete_cmd_postfix": ") ",
     "delete_cmd_prefix": "rm(",
     "library": "var_list.r",
     "varRefreshCmd": "cat(var_dic_list()) "
    }
   },
   "types_to_exclude": [
    "module",
    "function",
    "builtin_function_or_method",
    "instance",
    "_Feature"
   ],
   "window_display": false
  }
 },
 "nbformat": 4,
 "nbformat_minor": 2
}
