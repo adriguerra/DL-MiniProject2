{
 "cells": [
  {
   "cell_type": "code",
   "execution_count": 1,
   "metadata": {},
   "outputs": [],
   "source": [
    "import torch\n",
    "import functions\n",
    "import modules\n",
    "import math\n",
    "from optimizer import SGD\n",
    "\n",
    "from torch import optim\n",
    "from torch import Tensor\n",
    "from torch import nn\n",
    "\n",
    "# torch.set_grad_enabled(False)"
   ]
  },
  {
   "cell_type": "markdown",
   "metadata": {},
   "source": [
    "- Generates a training and a test set of 1,000 points sampled uniformly in [0, 1]2, each with a\n",
    "label 0 if outside the disk of radius 1/√2π and 1 inside,\n",
    "- two input units, two output units, three hidden layers of 25 units,"
   ]
  },
  {
   "cell_type": "markdown",
   "metadata": {},
   "source": [
    "## Test.py"
   ]
  },
  {
   "cell_type": "markdown",
   "metadata": {},
   "source": [
    "## Generate data"
   ]
  },
  {
   "cell_type": "code",
   "execution_count": 2,
   "metadata": {},
   "outputs": [],
   "source": [
    "def generate_disc_set(nb):\n",
    "    input = torch.Tensor(nb, 2).uniform_(0, 1)\n",
    "    target = input.pow(2).sum(1).sub(1 / (2 * math.pi)).sign().add(1).div(2).long()\n",
    "    return input, target"
   ]
  },
  {
   "cell_type": "code",
   "execution_count": 3,
   "metadata": {},
   "outputs": [],
   "source": [
    "def convert_to_one_hot_labels(input, target):\n",
    "    tmp = input.new_zeros(target.size(0), target.max() + 1)\n",
    "    tmp.scatter_(1, target.view(-1, 1), 1.0)\n",
    "    return tmp"
   ]
  },
  {
   "cell_type": "code",
   "execution_count": 4,
   "metadata": {},
   "outputs": [],
   "source": [
    "train_input, train_target = generate_disc_set(3)"
   ]
  },
  {
   "cell_type": "code",
   "execution_count": 5,
   "metadata": {},
   "outputs": [
    {
     "name": "stdout",
     "output_type": "stream",
     "text": [
      "tensor([[0.9970, 0.9038],\n",
      "        [0.8753, 0.6765],\n",
      "        [0.8820, 0.7442]])\n",
      "tensor([1, 1, 1])\n"
     ]
    }
   ],
   "source": [
    "print(train_input)\n",
    "print(train_target)"
   ]
  },
  {
   "cell_type": "code",
   "execution_count": 6,
   "metadata": {},
   "outputs": [],
   "source": [
    "train_target = convert_to_one_hot_labels(train_input, train_target)"
   ]
  },
  {
   "cell_type": "code",
   "execution_count": 7,
   "metadata": {},
   "outputs": [
    {
     "name": "stdout",
     "output_type": "stream",
     "text": [
      "tensor([[0.9970, 0.9038],\n",
      "        [0.8753, 0.6765],\n",
      "        [0.8820, 0.7442]])\n",
      "tensor([[0., 1.],\n",
      "        [0., 1.],\n",
      "        [0., 1.]])\n"
     ]
    }
   ],
   "source": [
    "print(train_input)\n",
    "print(train_target)"
   ]
  },
  {
   "cell_type": "code",
   "execution_count": 8,
   "metadata": {},
   "outputs": [],
   "source": [
    "train_input, train_target = generate_disc_set(1000)\n",
    "train_target = convert_to_one_hot_labels(train_input, train_target)"
   ]
  },
  {
   "cell_type": "code",
   "execution_count": 9,
   "metadata": {},
   "outputs": [
    {
     "data": {
      "text/plain": [
       "tensor([[-1.2063, -0.2157],\n",
       "        [-0.0723, -1.4158],\n",
       "        [-0.5509, -0.5999],\n",
       "        ...,\n",
       "        [ 1.4372,  1.4693],\n",
       "        [-0.8120,  0.5293],\n",
       "        [-0.6206,  0.3688]])"
      ]
     },
     "execution_count": 9,
     "metadata": {},
     "output_type": "execute_result"
    }
   ],
   "source": [
    "mean, std = train_input.mean(), train_input.std()\n",
    "train_input.sub_(mean).div_(std)"
   ]
  },
  {
   "cell_type": "code",
   "execution_count": 10,
   "metadata": {},
   "outputs": [],
   "source": [
    "train_input = 0.9 * train_input"
   ]
  },
  {
   "cell_type": "code",
   "execution_count": 11,
   "metadata": {
    "scrolled": true
   },
   "outputs": [
    {
     "name": "stdout",
     "output_type": "stream",
     "text": [
      "torch.Size([1000, 2])\n",
      "torch.Size([1000, 2])\n"
     ]
    }
   ],
   "source": [
    "print(train_input.shape)\n",
    "print(train_target.shape)"
   ]
  },
  {
   "cell_type": "code",
   "execution_count": 12,
   "metadata": {},
   "outputs": [],
   "source": [
    "arch1 = modules.Sequential(modules.Linear(2, 25), modules.Linear(25, 2), modules.MSELoss(train_target))"
   ]
  },
  {
   "cell_type": "code",
   "execution_count": 13,
   "metadata": {
    "scrolled": true
   },
   "outputs": [
    {
     "name": "stdout",
     "output_type": "stream",
     "text": [
      "Linear0\n",
      "<modules.Linear object at 0x126258ba8>\n",
      "Linear1\n",
      "<modules.Linear object at 0x126257e80>\n",
      "MSELoss2\n",
      "<modules.MSELoss object at 0x126258c50>\n"
     ]
    }
   ],
   "source": [
    "for name, m in arch1.__dict__.items():\n",
    "    print(name)\n",
    "    print(m)"
   ]
  },
  {
   "cell_type": "code",
   "execution_count": 14,
   "metadata": {},
   "outputs": [],
   "source": [
    "nb_epochs = 50\n",
    "lr = 1e-5\n",
    "optimizer = SGD(arch1, lr=lr)"
   ]
  },
  {
   "cell_type": "code",
   "execution_count": 15,
   "metadata": {},
   "outputs": [
    {
     "name": "stdout",
     "output_type": "stream",
     "text": [
      "tensor(1.3193)\n",
      "tensor(1.1771)\n",
      "tensor(1.0528)\n",
      "tensor(0.9438)\n",
      "tensor(0.8482)\n",
      "tensor(0.7640)\n",
      "tensor(0.6899)\n",
      "tensor(0.6247)\n",
      "tensor(0.5671)\n",
      "tensor(0.5163)\n",
      "tensor(0.4714)\n",
      "tensor(0.4318)\n",
      "tensor(0.3969)\n",
      "tensor(0.3660)\n",
      "tensor(0.3388)\n",
      "tensor(0.3147)\n",
      "tensor(0.2935)\n",
      "tensor(0.2748)\n",
      "tensor(0.2582)\n",
      "tensor(0.2437)\n",
      "tensor(0.2308)\n",
      "tensor(0.2195)\n",
      "tensor(0.2095)\n",
      "tensor(0.2007)\n",
      "tensor(0.1930)\n",
      "tensor(0.1862)\n",
      "tensor(0.1802)\n",
      "tensor(0.1749)\n",
      "tensor(0.1703)\n",
      "tensor(0.1662)\n",
      "tensor(0.1626)\n",
      "tensor(0.1594)\n",
      "tensor(0.1566)\n",
      "tensor(0.1542)\n",
      "tensor(0.1521)\n",
      "tensor(0.1502)\n",
      "tensor(0.1485)\n",
      "tensor(0.1471)\n",
      "tensor(0.1458)\n",
      "tensor(0.1447)\n",
      "tensor(0.1437)\n",
      "tensor(0.1428)\n",
      "tensor(0.1421)\n",
      "tensor(0.1414)\n",
      "tensor(0.1408)\n",
      "tensor(0.1403)\n",
      "tensor(0.1399)\n",
      "tensor(0.1395)\n",
      "tensor(0.1391)\n",
      "tensor(0.1388)\n"
     ]
    }
   ],
   "source": [
    "for e in range(nb_epochs):\n",
    "    output, loss = arch1.forward(train_input)\n",
    "    print(loss)\n",
    "    grad = arch1.backward()\n",
    "    optimizer.step()\n",
    "    optimizer.zero_grad()"
   ]
  },
  {
   "cell_type": "code",
   "execution_count": 16,
   "metadata": {},
   "outputs": [
    {
     "name": "stdout",
     "output_type": "stream",
     "text": [
      "tensor(0.4485, grad_fn=<MseLossBackward>)\n",
      "tensor(0.4478, grad_fn=<MseLossBackward>)\n",
      "tensor(0.4471, grad_fn=<MseLossBackward>)\n",
      "tensor(0.4464, grad_fn=<MseLossBackward>)\n",
      "tensor(0.4457, grad_fn=<MseLossBackward>)\n",
      "tensor(0.4450, grad_fn=<MseLossBackward>)\n",
      "tensor(0.4443, grad_fn=<MseLossBackward>)\n",
      "tensor(0.4436, grad_fn=<MseLossBackward>)\n",
      "tensor(0.4429, grad_fn=<MseLossBackward>)\n",
      "tensor(0.4422, grad_fn=<MseLossBackward>)\n",
      "tensor(0.4415, grad_fn=<MseLossBackward>)\n",
      "tensor(0.4408, grad_fn=<MseLossBackward>)\n",
      "tensor(0.4401, grad_fn=<MseLossBackward>)\n",
      "tensor(0.4394, grad_fn=<MseLossBackward>)\n",
      "tensor(0.4387, grad_fn=<MseLossBackward>)\n",
      "tensor(0.4380, grad_fn=<MseLossBackward>)\n",
      "tensor(0.4374, grad_fn=<MseLossBackward>)\n",
      "tensor(0.4367, grad_fn=<MseLossBackward>)\n",
      "tensor(0.4360, grad_fn=<MseLossBackward>)\n",
      "tensor(0.4353, grad_fn=<MseLossBackward>)\n",
      "tensor(0.4346, grad_fn=<MseLossBackward>)\n",
      "tensor(0.4340, grad_fn=<MseLossBackward>)\n",
      "tensor(0.4333, grad_fn=<MseLossBackward>)\n",
      "tensor(0.4326, grad_fn=<MseLossBackward>)\n",
      "tensor(0.4319, grad_fn=<MseLossBackward>)\n",
      "tensor(0.4312, grad_fn=<MseLossBackward>)\n",
      "tensor(0.4306, grad_fn=<MseLossBackward>)\n",
      "tensor(0.4299, grad_fn=<MseLossBackward>)\n",
      "tensor(0.4292, grad_fn=<MseLossBackward>)\n",
      "tensor(0.4286, grad_fn=<MseLossBackward>)\n",
      "tensor(0.4279, grad_fn=<MseLossBackward>)\n",
      "tensor(0.4272, grad_fn=<MseLossBackward>)\n",
      "tensor(0.4266, grad_fn=<MseLossBackward>)\n",
      "tensor(0.4259, grad_fn=<MseLossBackward>)\n",
      "tensor(0.4252, grad_fn=<MseLossBackward>)\n",
      "tensor(0.4246, grad_fn=<MseLossBackward>)\n",
      "tensor(0.4239, grad_fn=<MseLossBackward>)\n",
      "tensor(0.4232, grad_fn=<MseLossBackward>)\n",
      "tensor(0.4226, grad_fn=<MseLossBackward>)\n",
      "tensor(0.4219, grad_fn=<MseLossBackward>)\n",
      "tensor(0.4213, grad_fn=<MseLossBackward>)\n",
      "tensor(0.4206, grad_fn=<MseLossBackward>)\n",
      "tensor(0.4200, grad_fn=<MseLossBackward>)\n",
      "tensor(0.4193, grad_fn=<MseLossBackward>)\n",
      "tensor(0.4187, grad_fn=<MseLossBackward>)\n",
      "tensor(0.4180, grad_fn=<MseLossBackward>)\n",
      "tensor(0.4174, grad_fn=<MseLossBackward>)\n",
      "tensor(0.4167, grad_fn=<MseLossBackward>)\n",
      "tensor(0.4161, grad_fn=<MseLossBackward>)\n",
      "tensor(0.4154, grad_fn=<MseLossBackward>)\n"
     ]
    }
   ],
   "source": [
    "model = nn.Sequential(nn.Linear(2, 2))\n",
    "criterion = nn.MSELoss()\n",
    "optimizer = optim.SGD(model.parameters(), lr=1e-3)\n",
    "nb_epochs = 50\n",
    "\n",
    "for e in range(nb_epochs):\n",
    "    output = model(train_input)\n",
    "    loss = criterion(output, train_target.float())\n",
    "    print(loss)\n",
    "    model.zero_grad()\n",
    "    loss.backward()\n",
    "    optimizer.step()"
   ]
  },
  {
   "cell_type": "markdown",
   "metadata": {},
   "source": [
    "## Mini-Project Architecture"
   ]
  },
  {
   "cell_type": "code",
   "execution_count": 17,
   "metadata": {},
   "outputs": [],
   "source": [
    "architecture = modules.Sequential(modules.Linear(2, 25),\n",
    "                                  modules.TanH(),\n",
    "                                  modules.Linear(25, 25),\n",
    "                                  modules.TanH(),\n",
    "                                  modules.Linear(25, 25),\n",
    "                                  modules.TanH(),\n",
    "                                  modules.Linear(25, 25),\n",
    "                                  modules.TanH(),\n",
    "                                  modules.Linear(25, 2),\n",
    "                                  modules.MSELoss(train_target)\n",
    "                                 )"
   ]
  },
  {
   "cell_type": "code",
   "execution_count": null,
   "metadata": {},
   "outputs": [],
   "source": []
  }
 ],
 "metadata": {
  "kernelspec": {
   "display_name": "Python 3",
   "language": "python",
   "name": "python3"
  },
  "language_info": {
   "codemirror_mode": {
    "name": "ipython",
    "version": 3
   },
   "file_extension": ".py",
   "mimetype": "text/x-python",
   "name": "python",
   "nbconvert_exporter": "python",
   "pygments_lexer": "ipython3",
   "version": "3.6.8"
  },
  "toc": {
   "base_numbering": 1,
   "nav_menu": {},
   "number_sections": false,
   "sideBar": true,
   "skip_h1_title": false,
   "title_cell": "Table of Contents",
   "title_sidebar": "Contents",
   "toc_cell": false,
   "toc_position": {},
   "toc_section_display": true,
   "toc_window_display": false
  },
  "varInspector": {
   "cols": {
    "lenName": 16,
    "lenType": 16,
    "lenVar": 40
   },
   "kernels_config": {
    "python": {
     "delete_cmd_postfix": "",
     "delete_cmd_prefix": "del ",
     "library": "var_list.py",
     "varRefreshCmd": "print(var_dic_list())"
    },
    "r": {
     "delete_cmd_postfix": ") ",
     "delete_cmd_prefix": "rm(",
     "library": "var_list.r",
     "varRefreshCmd": "cat(var_dic_list()) "
    }
   },
   "types_to_exclude": [
    "module",
    "function",
    "builtin_function_or_method",
    "instance",
    "_Feature"
   ],
   "window_display": false
  }
 },
 "nbformat": 4,
 "nbformat_minor": 2
}
