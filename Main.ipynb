{
 "cells": [
  {
   "cell_type": "code",
   "execution_count": 1,
   "metadata": {},
   "outputs": [],
   "source": [
    "import torch\n",
    "import functions\n",
    "import modules\n",
    "import math\n",
    "from optimizer import SGD\n",
    "\n",
    "from torch import optim\n",
    "from torch import Tensor\n",
    "from torch import nn\n",
    "\n",
    "# torch.set_grad_enabled(False)"
   ]
  },
  {
   "cell_type": "markdown",
   "metadata": {},
   "source": [
    "- Generates a training and a test set of 1,000 points sampled uniformly in [0, 1]2, each with a\n",
    "label 0 if outside the disk of radius 1/√2π and 1 inside,\n",
    "- two input units, two output units, three hidden layers of 25 units,"
   ]
  },
  {
   "cell_type": "markdown",
   "metadata": {},
   "source": [
    "## Test.py"
   ]
  },
  {
   "cell_type": "markdown",
   "metadata": {},
   "source": [
    "## Generate data"
   ]
  },
  {
   "cell_type": "code",
   "execution_count": 2,
   "metadata": {},
   "outputs": [],
   "source": [
    "def generate_disc_set(nb):\n",
    "    input = torch.Tensor(nb, 2).uniform_(0, 1)\n",
    "    target = input.pow(2).sum(1).sub(1 / (2 * math.pi)).sign().add(1).div(2).long()\n",
    "    return input, target"
   ]
  },
  {
   "cell_type": "code",
   "execution_count": 3,
   "metadata": {},
   "outputs": [],
   "source": [
    "def convert_to_one_hot_labels(input, target):\n",
    "    tmp = input.new_zeros(target.size(0), target.max() + 1)\n",
    "    tmp.scatter_(1, target.view(-1, 1), 1.0)\n",
    "    return tmp"
   ]
  },
  {
   "cell_type": "code",
   "execution_count": 4,
   "metadata": {},
   "outputs": [],
   "source": [
    "train_input, train_target = generate_disc_set(3)"
   ]
  },
  {
   "cell_type": "code",
   "execution_count": 5,
   "metadata": {},
   "outputs": [
    {
     "name": "stdout",
     "output_type": "stream",
     "text": [
      "tensor([[0.0827, 0.9598],\n",
      "        [0.2305, 0.3692],\n",
      "        [0.8926, 0.7460]])\n",
      "tensor([1, 1, 1])\n"
     ]
    }
   ],
   "source": [
    "print(train_input)\n",
    "print(train_target)"
   ]
  },
  {
   "cell_type": "code",
   "execution_count": 6,
   "metadata": {},
   "outputs": [],
   "source": [
    "train_target = convert_to_one_hot_labels(train_input, train_target)"
   ]
  },
  {
   "cell_type": "code",
   "execution_count": 7,
   "metadata": {},
   "outputs": [
    {
     "name": "stdout",
     "output_type": "stream",
     "text": [
      "tensor([[0.0827, 0.9598],\n",
      "        [0.2305, 0.3692],\n",
      "        [0.8926, 0.7460]])\n",
      "tensor([[0., 1.],\n",
      "        [0., 1.],\n",
      "        [0., 1.]])\n"
     ]
    }
   ],
   "source": [
    "print(train_input)\n",
    "print(train_target)"
   ]
  },
  {
   "cell_type": "code",
   "execution_count": 8,
   "metadata": {},
   "outputs": [],
   "source": [
    "train_input, train_target = generate_disc_set(1000)\n",
    "train_target = convert_to_one_hot_labels(train_input, train_target)"
   ]
  },
  {
   "cell_type": "code",
   "execution_count": null,
   "metadata": {},
   "outputs": [],
   "source": []
  },
  {
   "cell_type": "code",
   "execution_count": 9,
   "metadata": {
    "scrolled": true
   },
   "outputs": [
    {
     "name": "stdout",
     "output_type": "stream",
     "text": [
      "torch.Size([1000, 2])\n",
      "torch.Size([1000, 2])\n"
     ]
    }
   ],
   "source": [
    "print(train_input.shape)\n",
    "print(train_target.shape)"
   ]
  },
  {
   "cell_type": "code",
   "execution_count": 10,
   "metadata": {},
   "outputs": [],
   "source": [
    "arch1 = modules.Sequential(modules.Linear(2, 2))"
   ]
  },
  {
   "cell_type": "code",
   "execution_count": 11,
   "metadata": {
    "scrolled": true
   },
   "outputs": [
    {
     "name": "stdout",
     "output_type": "stream",
     "text": [
      "Linear0\n",
      "<modules.Linear object at 0x11a76e080>\n"
     ]
    }
   ],
   "source": [
    "for name, m in arch1.__dict__.items():\n",
    "    print(name)\n",
    "    print(m)"
   ]
  },
  {
   "cell_type": "code",
   "execution_count": 12,
   "metadata": {},
   "outputs": [
    {
     "name": "stdout",
     "output_type": "stream",
     "text": [
      "Shape:  torch.Size([1000, 2])\n",
      "Gradwrtoutput:  torch.Size([1000, 2])\n",
      "Loss:  tensor(1000.0016)\n",
      "Shape:  torch.Size([1000, 2])\n",
      "Gradwrtoutput:  torch.Size([1000, 2])\n",
      "Loss:  tensor(1000.0016)\n",
      "Shape:  torch.Size([1000, 2])\n",
      "Gradwrtoutput:  torch.Size([1000, 2])\n",
      "Loss:  tensor(1000.0016)\n",
      "Shape:  torch.Size([1000, 2])\n",
      "Gradwrtoutput:  torch.Size([1000, 2])\n",
      "Loss:  tensor(1000.0016)\n",
      "Shape:  torch.Size([1000, 2])\n",
      "Gradwrtoutput:  torch.Size([1000, 2])\n",
      "Loss:  tensor(1000.0016)\n",
      "Shape:  torch.Size([1000, 2])\n",
      "Gradwrtoutput:  torch.Size([1000, 2])\n",
      "Loss:  tensor(1000.0016)\n",
      "Shape:  torch.Size([1000, 2])\n",
      "Gradwrtoutput:  torch.Size([1000, 2])\n",
      "Loss:  tensor(1000.0016)\n",
      "Shape:  torch.Size([1000, 2])\n",
      "Gradwrtoutput:  torch.Size([1000, 2])\n",
      "Loss:  tensor(1000.0016)\n",
      "Shape:  torch.Size([1000, 2])\n",
      "Gradwrtoutput:  torch.Size([1000, 2])\n",
      "Loss:  tensor(1000.0016)\n",
      "Shape:  torch.Size([1000, 2])\n",
      "Gradwrtoutput:  torch.Size([1000, 2])\n",
      "Loss:  tensor(1000.0016)\n"
     ]
    }
   ],
   "source": [
    "nb_epochs = 10\n",
    "lr = 1e-1\n",
    "optimizer = SGD(arch1.param(), lr=lr)\n",
    "criterion = modules.MSELoss()\n",
    "\n",
    "\n",
    "for e in range(nb_epochs):\n",
    "    output = arch1.forward(train_input)\n",
    "    print(\"Shape: \", output.shape)\n",
    "    loss = criterion.forward(output, train_target)\n",
    "    gradwrtoutput = criterion.backward()\n",
    "    print(\"Gradwrtoutput: \", gradwrtoutput.shape)\n",
    "    grad = arch1.backward(gradwrtoutput)\n",
    "    print(\"Loss: \", loss)\n",
    "    optimizer.zero_grad()\n",
    "    optimizer.step()"
   ]
  },
  {
   "cell_type": "code",
   "execution_count": null,
   "metadata": {},
   "outputs": [],
   "source": []
  },
  {
   "cell_type": "code",
   "execution_count": 13,
   "metadata": {},
   "outputs": [
    {
     "name": "stdout",
     "output_type": "stream",
     "text": [
      "tensor(1.1538, grad_fn=<MseLossBackward>)\n",
      "tensor(0.8695, grad_fn=<MseLossBackward>)\n",
      "tensor(0.6637, grad_fn=<MseLossBackward>)\n",
      "tensor(0.5146, grad_fn=<MseLossBackward>)\n",
      "tensor(0.4065, grad_fn=<MseLossBackward>)\n",
      "tensor(0.3282, grad_fn=<MseLossBackward>)\n",
      "tensor(0.2714, grad_fn=<MseLossBackward>)\n",
      "tensor(0.2301, grad_fn=<MseLossBackward>)\n",
      "tensor(0.2001, grad_fn=<MseLossBackward>)\n",
      "tensor(0.1782, grad_fn=<MseLossBackward>)\n"
     ]
    }
   ],
   "source": [
    "model = nn.Sequential(\n",
    "            nn.Linear(2, 2),\n",
    "#             nn.ReLU(),\n",
    "#             nn.Linear(128, 2)\n",
    "        )\n",
    "criterion = nn.MSELoss()\n",
    "optimizer = optim.SGD(model.parameters(), lr=1e-1)\n",
    "nb_epochs = 10\n",
    "\n",
    "for e in range(nb_epochs):\n",
    "    output = model(train_input)\n",
    "    loss = criterion(output, train_target.float())\n",
    "    print(loss)\n",
    "    model.zero_grad()\n",
    "    loss.backward()\n",
    "    optimizer.step()"
   ]
  },
  {
   "cell_type": "markdown",
   "metadata": {},
   "source": [
    "## Mini-Project Architecture"
   ]
  },
  {
   "cell_type": "code",
   "execution_count": 14,
   "metadata": {},
   "outputs": [],
   "source": [
    "seq = modules.Sequential(modules.Linear(2, 25),\n",
    "                         modules.TanH(),\n",
    "                         modules.Linear(25, 25),\n",
    "                         modules.TanH(),\n",
    "                         modules.Linear(25, 25),\n",
    "                         modules.TanH(),\n",
    "                         modules.Linear(25, 25),\n",
    "                         modules.TanH(),\n",
    "                         modules.Linear(25, 2)\n",
    "                        )"
   ]
  },
  {
   "cell_type": "code",
   "execution_count": 15,
   "metadata": {},
   "outputs": [
    {
     "name": "stdout",
     "output_type": "stream",
     "text": [
      "Linear0\n",
      "<modules.Linear object at 0x11a77b0b8>\n",
      "TanH1\n",
      "<modules.TanH object at 0x11a77b198>\n",
      "Linear2\n",
      "<modules.Linear object at 0x11a77b2b0>\n",
      "TanH3\n",
      "<modules.TanH object at 0x11a77b2e8>\n",
      "Linear4\n",
      "<modules.Linear object at 0x11a77b358>\n",
      "TanH5\n",
      "<modules.TanH object at 0x11a77b5c0>\n",
      "Linear6\n",
      "<modules.Linear object at 0x11a77b390>\n",
      "TanH7\n",
      "<modules.TanH object at 0x11a77b6d8>\n",
      "Linear8\n",
      "<modules.Linear object at 0x11a77b668>\n"
     ]
    }
   ],
   "source": [
    "for name, m in seq.__dict__.items():\n",
    "    print(name)\n",
    "    print(m)"
   ]
  },
  {
   "cell_type": "code",
   "execution_count": 16,
   "metadata": {},
   "outputs": [
    {
     "name": "stdout",
     "output_type": "stream",
     "text": [
      "Loss:  tensor(999.9990)\n",
      "Loss:  tensor(999.9990)\n",
      "Loss:  tensor(999.9990)\n",
      "Loss:  tensor(999.9990)\n",
      "Loss:  tensor(999.9990)\n",
      "Loss:  tensor(999.9990)\n",
      "Loss:  tensor(999.9990)\n",
      "Loss:  tensor(999.9990)\n",
      "Loss:  tensor(999.9990)\n",
      "Loss:  tensor(999.9990)\n"
     ]
    }
   ],
   "source": [
    "nb_epochs = 10\n",
    "lr = 1e-1\n",
    "optimizer = SGD(seq.param(), lr=lr)\n",
    "criterion = modules.MSELoss()\n",
    "\n",
    "\n",
    "for e in range(nb_epochs):\n",
    "    output = seq.forward(train_input)\n",
    "    loss = criterion.forward(output, train_target)\n",
    "    print(\"Loss: \", loss)\n",
    "    gradwrtoutput = criterion.backward()\n",
    "#     print(\"Gradwrtoutput: \", gradwrtoutput.shape)\n",
    "    grad = seq.backward(gradwrtoutput)\n",
    "    optimizer.zero_grad()\n",
    "    optimizer.step()"
   ]
  },
  {
   "cell_type": "code",
   "execution_count": null,
   "metadata": {},
   "outputs": [],
   "source": []
  }
 ],
 "metadata": {
  "kernelspec": {
   "display_name": "Python 3",
   "language": "python",
   "name": "python3"
  },
  "language_info": {
   "codemirror_mode": {
    "name": "ipython",
    "version": 3
   },
   "file_extension": ".py",
   "mimetype": "text/x-python",
   "name": "python",
   "nbconvert_exporter": "python",
   "pygments_lexer": "ipython3",
   "version": "3.6.8"
  },
  "toc": {
   "base_numbering": 1,
   "nav_menu": {},
   "number_sections": false,
   "sideBar": true,
   "skip_h1_title": false,
   "title_cell": "Table of Contents",
   "title_sidebar": "Contents",
   "toc_cell": false,
   "toc_position": {},
   "toc_section_display": true,
   "toc_window_display": false
  },
  "varInspector": {
   "cols": {
    "lenName": 16,
    "lenType": 16,
    "lenVar": 40
   },
   "kernels_config": {
    "python": {
     "delete_cmd_postfix": "",
     "delete_cmd_prefix": "del ",
     "library": "var_list.py",
     "varRefreshCmd": "print(var_dic_list())"
    },
    "r": {
     "delete_cmd_postfix": ") ",
     "delete_cmd_prefix": "rm(",
     "library": "var_list.r",
     "varRefreshCmd": "cat(var_dic_list()) "
    }
   },
   "types_to_exclude": [
    "module",
    "function",
    "builtin_function_or_method",
    "instance",
    "_Feature"
   ],
   "window_display": false
  }
 },
 "nbformat": 4,
 "nbformat_minor": 2
}
