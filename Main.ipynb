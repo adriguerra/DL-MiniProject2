{
 "cells": [
  {
   "cell_type": "code",
   "execution_count": 1,
   "metadata": {},
   "outputs": [],
   "source": [
    "import torch\n",
    "import functions\n",
    "import modules\n",
    "import math\n",
    "from optimizer import SGD\n",
    "\n",
    "from torch import optim\n",
    "from torch import Tensor\n",
    "from torch import nn\n",
    "\n",
    "# torch.set_grad_enabled(False)"
   ]
  },
  {
   "cell_type": "markdown",
   "metadata": {},
   "source": [
    "- Generates a training and a test set of 1,000 points sampled uniformly in [0, 1]2, each with a\n",
    "label 0 if outside the disk of radius 1/√2π and 1 inside,\n",
    "- two input units, two output units, three hidden layers of 25 units,"
   ]
  },
  {
   "cell_type": "markdown",
   "metadata": {},
   "source": [
    "## Test.py"
   ]
  },
  {
   "cell_type": "markdown",
   "metadata": {},
   "source": [
    "## Generate data"
   ]
  },
  {
   "cell_type": "code",
   "execution_count": 2,
   "metadata": {},
   "outputs": [],
   "source": [
    "def generate_disc_set(nb):\n",
    "    input = torch.Tensor(nb, 2).uniform_(0, 1)\n",
    "    target = input.pow(2).sum(1).sub(1 / (2 * math.pi)).sign().add(1).div(2).long()\n",
    "    return input, target"
   ]
  },
  {
   "cell_type": "code",
   "execution_count": 3,
   "metadata": {},
   "outputs": [],
   "source": [
    "def convert_to_one_hot_labels(input, target):\n",
    "    tmp = input.new_zeros(target.size(0), target.max() + 1)\n",
    "    tmp.scatter_(1, target.view(-1, 1), 1.0)\n",
    "    return tmp"
   ]
  },
  {
   "cell_type": "code",
   "execution_count": 4,
   "metadata": {},
   "outputs": [],
   "source": [
    "train_input, train_target = generate_disc_set(3)"
   ]
  },
  {
   "cell_type": "code",
   "execution_count": 5,
   "metadata": {},
   "outputs": [
    {
     "name": "stdout",
     "output_type": "stream",
     "text": [
      "tensor([[0.5978, 0.0330],\n",
      "        [0.4198, 0.6532],\n",
      "        [0.1504, 0.1193]])\n",
      "tensor([1, 1, 0])\n"
     ]
    }
   ],
   "source": [
    "print(train_input)\n",
    "print(train_target)"
   ]
  },
  {
   "cell_type": "code",
   "execution_count": 6,
   "metadata": {},
   "outputs": [],
   "source": [
    "train_target = convert_to_one_hot_labels(train_input, train_target)"
   ]
  },
  {
   "cell_type": "code",
   "execution_count": 7,
   "metadata": {},
   "outputs": [
    {
     "name": "stdout",
     "output_type": "stream",
     "text": [
      "tensor([[0.5978, 0.0330],\n",
      "        [0.4198, 0.6532],\n",
      "        [0.1504, 0.1193]])\n",
      "tensor([[0., 1.],\n",
      "        [0., 1.],\n",
      "        [1., 0.]])\n"
     ]
    }
   ],
   "source": [
    "print(train_input)\n",
    "print(train_target)"
   ]
  },
  {
   "cell_type": "code",
   "execution_count": 8,
   "metadata": {},
   "outputs": [],
   "source": [
    "train_input, train_target = generate_disc_set(1000)\n",
    "train_target = convert_to_one_hot_labels(train_input, train_target)"
   ]
  },
  {
   "cell_type": "code",
   "execution_count": 9,
   "metadata": {},
   "outputs": [
    {
     "data": {
      "text/plain": [
       "tensor([[ 1.6113,  0.7463],\n",
       "        [ 0.4971,  0.8789],\n",
       "        [ 0.0578, -1.5177],\n",
       "        ...,\n",
       "        [ 1.4818,  0.3531],\n",
       "        [ 0.3349,  0.4327],\n",
       "        [-0.6696,  0.6123]])"
      ]
     },
     "execution_count": 9,
     "metadata": {},
     "output_type": "execute_result"
    }
   ],
   "source": [
    "mean, std = train_input.mean(), train_input.std()\n",
    "train_input.sub_(mean).div_(std)"
   ]
  },
  {
   "cell_type": "code",
   "execution_count": 10,
   "metadata": {},
   "outputs": [],
   "source": [
    "train_input = 0.9 * train_input"
   ]
  },
  {
   "cell_type": "code",
   "execution_count": 11,
   "metadata": {
    "scrolled": true
   },
   "outputs": [
    {
     "name": "stdout",
     "output_type": "stream",
     "text": [
      "torch.Size([1000, 2])\n",
      "torch.Size([1000, 2])\n"
     ]
    }
   ],
   "source": [
    "print(train_input.shape)\n",
    "print(train_target.shape)"
   ]
  },
  {
   "cell_type": "code",
   "execution_count": 12,
   "metadata": {},
   "outputs": [],
   "source": [
    "arch1 = modules.Sequential(modules.Linear(2, 25), modules.Linear(25, 2), modules.MSELoss(train_target))"
   ]
  },
  {
   "cell_type": "code",
   "execution_count": 13,
   "metadata": {
    "scrolled": true
   },
   "outputs": [
    {
     "name": "stdout",
     "output_type": "stream",
     "text": [
      "Linear0\n",
      "<modules.Linear object at 0x1155f1ef0>\n",
      "Linear1\n",
      "<modules.Linear object at 0x1155f1f98>\n",
      "MSELoss2\n",
      "<modules.MSELoss object at 0x1155f1f28>\n"
     ]
    }
   ],
   "source": [
    "for name, m in arch1.__dict__.items():\n",
    "    print(name)\n",
    "    print(m)"
   ]
  },
  {
   "cell_type": "code",
   "execution_count": 14,
   "metadata": {},
   "outputs": [],
   "source": [
    "nb_epochs = 2\n",
    "lr = 1e-6\n",
    "# optimizer = test(arch1.param(), lr=lr)"
   ]
  },
  {
   "cell_type": "code",
   "execution_count": 15,
   "metadata": {},
   "outputs": [],
   "source": [
    "class TEST(object):\n",
    "    def __init__(self, params):\n",
    "        self.params = params\n",
    "        super().__init__()\n",
    "        \n",
    "    def modify(self):\n",
    "        lr = 1e-6\n",
    "        params_tmp = []\n",
    "        for (p, grad2) in self.params:\n",
    "            p -= lr * grad2\n",
    "            grad2 = torch.zeros(grad2.shape)\n",
    "            params_tmp.append((p, grad2))\n",
    "        self.params = params_tmp"
   ]
  },
  {
   "cell_type": "code",
   "execution_count": 16,
   "metadata": {},
   "outputs": [],
   "source": [
    "optim = TEST(arch1.param())\n",
    "for e in range(nb_epochs):\n",
    "    output, loss = arch1.forward(train_input)\n",
    "    grad = arch1.backward()\n",
    "    optim.modify()"
   ]
  },
  {
   "cell_type": "code",
   "execution_count": 17,
   "metadata": {},
   "outputs": [],
   "source": [
    "# nb_epochs = 2\n",
    "# lr = 1e-3\n",
    "# optimizer = SGD(arch1.param(), lr=lr)\n",
    "\n",
    "# for e in range(nb_epochs):\n",
    "#     output, loss = arch1.forward(train_input)\n",
    "#     print(loss)\n",
    "#     grad = arch1.backward()\n",
    "#     for (p, grad2) in arch1.param():\n",
    "#         p -= lr * grad2\n",
    "#         grad2 = torch.zeros(grad2.shape)"
   ]
  },
  {
   "cell_type": "code",
   "execution_count": 18,
   "metadata": {},
   "outputs": [],
   "source": [
    "nb_epochs = 50\n",
    "lr = 1e-5\n",
    "optimizer = SGD(arch1.param(), lr=lr)"
   ]
  },
  {
   "cell_type": "code",
   "execution_count": 19,
   "metadata": {},
   "outputs": [
    {
     "name": "stdout",
     "output_type": "stream",
     "text": [
      "tensor(1.7430)\n",
      "tensor(1.5540)\n",
      "tensor(1.3781)\n",
      "tensor(1.2148)\n",
      "tensor(1.0641)\n",
      "tensor(0.9257)\n",
      "tensor(0.7995)\n",
      "tensor(0.6851)\n",
      "tensor(0.5825)\n",
      "tensor(0.4913)\n",
      "tensor(0.4115)\n",
      "tensor(0.3428)\n",
      "tensor(0.2850)\n",
      "tensor(0.2379)\n",
      "tensor(0.2013)\n",
      "tensor(0.1750)\n",
      "tensor(0.1589)\n",
      "tensor(0.1527)\n",
      "tensor(0.1563)\n",
      "tensor(0.1695)\n",
      "tensor(0.1921)\n",
      "tensor(0.2238)\n",
      "tensor(0.2647)\n",
      "tensor(0.3143)\n",
      "tensor(0.3727)\n",
      "tensor(0.4396)\n",
      "tensor(0.5148)\n",
      "tensor(0.5982)\n",
      "tensor(0.6895)\n",
      "tensor(0.7888)\n",
      "tensor(0.8956)\n",
      "tensor(1.0100)\n",
      "tensor(1.1317)\n",
      "tensor(1.2606)\n",
      "tensor(1.3965)\n",
      "tensor(1.5393)\n",
      "tensor(1.6888)\n",
      "tensor(1.8449)\n",
      "tensor(2.0073)\n",
      "tensor(2.1761)\n",
      "tensor(2.3509)\n",
      "tensor(2.5317)\n",
      "tensor(2.7183)\n",
      "tensor(2.9106)\n",
      "tensor(3.1085)\n",
      "tensor(3.3117)\n",
      "tensor(3.5202)\n",
      "tensor(3.7339)\n",
      "tensor(3.9525)\n",
      "tensor(4.1760)\n"
     ]
    }
   ],
   "source": [
    "for e in range(nb_epochs):\n",
    "    output, loss = arch1.forward(train_input)\n",
    "    print(loss)\n",
    "    grad = arch1.backward()\n",
    "    optimizer.step()\n",
    "    optimizer.zero_grad()"
   ]
  },
  {
   "cell_type": "code",
   "execution_count": 20,
   "metadata": {},
   "outputs": [
    {
     "ename": "AttributeError",
     "evalue": "'TEST' object has no attribute 'SGD'",
     "output_type": "error",
     "traceback": [
      "\u001b[0;31m---------------------------------------------------------------------------\u001b[0m",
      "\u001b[0;31mAttributeError\u001b[0m                            Traceback (most recent call last)",
      "\u001b[0;32m<ipython-input-20-908663f3e124>\u001b[0m in \u001b[0;36m<module>\u001b[0;34m()\u001b[0m\n\u001b[1;32m      5\u001b[0m         )\n\u001b[1;32m      6\u001b[0m \u001b[0mcriterion\u001b[0m \u001b[0;34m=\u001b[0m \u001b[0mnn\u001b[0m\u001b[0;34m.\u001b[0m\u001b[0mMSELoss\u001b[0m\u001b[0;34m(\u001b[0m\u001b[0;34m)\u001b[0m\u001b[0;34m\u001b[0m\u001b[0m\n\u001b[0;32m----> 7\u001b[0;31m \u001b[0moptimizer\u001b[0m \u001b[0;34m=\u001b[0m \u001b[0moptim\u001b[0m\u001b[0;34m.\u001b[0m\u001b[0mSGD\u001b[0m\u001b[0;34m(\u001b[0m\u001b[0mmodel\u001b[0m\u001b[0;34m.\u001b[0m\u001b[0mparameters\u001b[0m\u001b[0;34m(\u001b[0m\u001b[0;34m)\u001b[0m\u001b[0;34m,\u001b[0m \u001b[0mlr\u001b[0m\u001b[0;34m=\u001b[0m\u001b[0;36m1e-3\u001b[0m\u001b[0;34m)\u001b[0m\u001b[0;34m\u001b[0m\u001b[0m\n\u001b[0m\u001b[1;32m      8\u001b[0m \u001b[0mnb_epochs\u001b[0m \u001b[0;34m=\u001b[0m \u001b[0;36m50\u001b[0m\u001b[0;34m\u001b[0m\u001b[0m\n\u001b[1;32m      9\u001b[0m \u001b[0;34m\u001b[0m\u001b[0m\n",
      "\u001b[0;31mAttributeError\u001b[0m: 'TEST' object has no attribute 'SGD'"
     ]
    }
   ],
   "source": [
    "model = nn.Sequential(\n",
    "            nn.Linear(2, 2),\n",
    "#             nn.ReLU(),\n",
    "#             nn.Linear(128, 2)\n",
    "        )\n",
    "criterion = nn.MSELoss()\n",
    "optimizer = optim.SGD(model.parameters(), lr=1e-3)\n",
    "nb_epochs = 50\n",
    "\n",
    "for e in range(nb_epochs):\n",
    "    output = model(train_input)\n",
    "#     print(output)\n",
    "    loss = criterion(output, train_target.float())\n",
    "    print(loss)\n",
    "    model.zero_grad()\n",
    "    loss.backward()\n",
    "    optimizer.step()"
   ]
  },
  {
   "cell_type": "markdown",
   "metadata": {},
   "source": [
    "## Mini-Project Architecture"
   ]
  },
  {
   "cell_type": "code",
   "execution_count": null,
   "metadata": {},
   "outputs": [],
   "source": [
    "architecture = modules.Sequential(modules.Linear(2, 25),\n",
    "                                  modules.TanH(),\n",
    "                                  modules.Linear(25, 25),\n",
    "                                  modules.TanH(),\n",
    "                                  modules.Linear(25, 25),\n",
    "                                  modules.TanH(),\n",
    "                                  modules.Linear(25, 25),\n",
    "                                  modules.TanH(),\n",
    "                                  modules.Linear(25, 2),\n",
    "                                  modules.MSELoss()\n",
    "                                 )"
   ]
  },
  {
   "cell_type": "code",
   "execution_count": null,
   "metadata": {},
   "outputs": [],
   "source": []
  }
 ],
 "metadata": {
  "kernelspec": {
   "display_name": "Python 3",
   "language": "python",
   "name": "python3"
  },
  "language_info": {
   "codemirror_mode": {
    "name": "ipython",
    "version": 3
   },
   "file_extension": ".py",
   "mimetype": "text/x-python",
   "name": "python",
   "nbconvert_exporter": "python",
   "pygments_lexer": "ipython3",
   "version": "3.6.5"
  },
  "toc": {
   "base_numbering": 1,
   "nav_menu": {},
   "number_sections": false,
   "sideBar": true,
   "skip_h1_title": false,
   "title_cell": "Table of Contents",
   "title_sidebar": "Contents",
   "toc_cell": false,
   "toc_position": {},
   "toc_section_display": true,
   "toc_window_display": false
  },
  "varInspector": {
   "cols": {
    "lenName": 16,
    "lenType": 16,
    "lenVar": 40
   },
   "kernels_config": {
    "python": {
     "delete_cmd_postfix": "",
     "delete_cmd_prefix": "del ",
     "library": "var_list.py",
     "varRefreshCmd": "print(var_dic_list())"
    },
    "r": {
     "delete_cmd_postfix": ") ",
     "delete_cmd_prefix": "rm(",
     "library": "var_list.r",
     "varRefreshCmd": "cat(var_dic_list()) "
    }
   },
   "types_to_exclude": [
    "module",
    "function",
    "builtin_function_or_method",
    "instance",
    "_Feature"
   ],
   "window_display": false
  }
 },
 "nbformat": 4,
 "nbformat_minor": 2
}
